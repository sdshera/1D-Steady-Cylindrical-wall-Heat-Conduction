{
 "cells": [
  {
   "attachments": {},
   "cell_type": "markdown",
   "metadata": {},
   "source": [
    "## Assignment 1: Steady 1D Conduction Heat Transfer in Cylindrical Walls "
   ]
  },
  {
   "attachments": {},
   "cell_type": "markdown",
   "metadata": {},
   "source": [
    "### 1-Import Libraries "
   ]
  },
  {
   "cell_type": "code",
   "execution_count": 882,
   "metadata": {},
   "outputs": [],
   "source": [
    "import numpy as np \n",
    "import pandas as pd \n",
    "import matplotlib.pyplot as plt "
   ]
  },
  {
   "attachments": {},
   "cell_type": "markdown",
   "metadata": {},
   "source": [
    "### 2-Given conditions with Geometrical Parameters "
   ]
  },
  {
   "cell_type": "code",
   "execution_count": 883,
   "metadata": {},
   "outputs": [],
   "source": [
    "T_A = 150;              # the temperature of the fluid inside the cylindrical walls \n",
    "T_B = 100;               # The temperature of the fluid outside the cylindrical walls \n",
    "alpha_A = 1;           # The heat transfer coefficient of fluid inside the cylindrical walls \n",
    "alpha_B = 1;          # The heat transfer coefficient of fluid outside the cylindrical walls \n",
    "qv = 0;                 # Internal energy source \n",
    "lambd = 1;              # Thermal conductivity for Iron \n",
    "\n",
    "H = 1;                  # Height of the cylinder \n",
    "Rint = 4;          \n",
    "Rext = 10; \n",
    "N = 15;                 # let us assume the number of control volumes "
   ]
  },
  {
   "attachments": {},
   "cell_type": "markdown",
   "metadata": {},
   "source": [
    "#### 4-Vectors for Control Volumes Faces and Nodes"
   ]
  },
  {
   "cell_type": "code",
   "execution_count": 884,
   "metadata": {},
   "outputs": [],
   "source": [
    "def CV_Faces(Rint,Rext,N):\n",
    "    e = Rext-Rint; \n",
    "    delta_r = e/N;\n",
    "    r_CV = np.zeros(N+1);              \n",
    "    for i in range(0,N+1):\n",
    "        r_CV[i] = Rint + (i)*delta_r;\n",
    "    return r_CV \n",
    "def Nodes(Rint,Rext,N):  \n",
    "    e = Rext-Rint; \n",
    "    r_P = np.zeros(N+2);                         # including initial and final points\n",
    "    r_P[0] = Rint;\n",
    "    r_P[N+1] = Rext; \n",
    "    r_Faces = CV_Faces(Rint,Rext,N)              # calling the faces function \n",
    "    for i in range(1,N+1):\n",
    "        r_P[i] = (r_Faces[i] + r_Faces[i-1])/2;\n",
    "    return r_P\n",
    "\n"
   ]
  },
  {
   "attachments": {},
   "cell_type": "markdown",
   "metadata": {},
   "source": [
    "#### Volumes of the Control volumes and Areas of Surfaces of Faces\n"
   ]
  },
  {
   "cell_type": "code",
   "execution_count": 885,
   "metadata": {},
   "outputs": [],
   "source": [
    "from cmath import pi\n",
    "\n",
    "def CV_Volumes(H): \n",
    "    r_CV = CV_Faces(Rint,Rext,N);\n",
    "    Volumes = np.zeros(N);\n",
    "    for i in range(0,N):\n",
    "        Volumes[i] = (pi*r_CV[i+1]**2*H) - (pi*r_CV[i]**2*H);\n",
    "    return Volumes \n",
    "\n",
    "def Area_Surfaces(Rint,Rext,N,H):\n",
    "    r_CV = CV_Faces(Rint,Rext,N);\n",
    "    Area_Surfaces = np.zeros(N+1);\n",
    "    for i in range(0,N+1):\n",
    "        Area_Surfaces[i] = 2*pi*r_CV[i]*H;\n",
    "\n",
    "    return Area_Surfaces "
   ]
  },
  {
   "attachments": {},
   "cell_type": "markdown",
   "metadata": {},
   "source": [
    "#### The Discretization Coefficients "
   ]
  },
  {
   "cell_type": "code",
   "execution_count": 886,
   "metadata": {},
   "outputs": [],
   "source": [
    "def Discretization_Coefficients(Rint,Rext,N,H,qv):\n",
    "    surfaces = Area_Surfaces(Rint,Rext,N,H);\n",
    "    r_faces = CV_Faces(Rint,Rext,N);\n",
    "    r_P = Nodes(Rint,Rext,N);\n",
    "    volumes = CV_Volumes(H);\n",
    "    aE = np.zeros(N+2);\n",
    "    aW = np.zeros(N+2);\n",
    "    bP = np.zeros(N+2);\n",
    "    aP = np.zeros(N+2);\n",
    "    # Node 1\n",
    "    aE[0] = lambd/(r_P[1] - r_P[0]); \n",
    "    aW[0] = 0;\n",
    "    aP[0] = aE[0]+alpha_A; \n",
    "    bP[0] = alpha_A*T_A;\n",
    "    # Last Node \n",
    "    aE[-1] = 0;\n",
    "    aW[-1] = lambd/(r_P[-1]-r_P[-2]); \n",
    "    aP[-1] = aW[-1] + alpha_B;\n",
    "    bP[-1] = alpha_B*T_B;\n",
    "    # All Node in Between \n",
    "    for i in range(1,N+1):                      \n",
    "        aE[i] = (lambd*surfaces[i])/(r_P[i+1]-r_P[i]);\n",
    "        aW[i] = (lambd*surfaces[i-1])/(r_P[i]-r_P[i-1]);\n",
    "        bP[i] = qv*volumes[i-1];\n",
    "        aP[i] = aE[i] + aW[i];\n",
    "    return aE,aW,bP,aP"
   ]
  },
  {
   "cell_type": "code",
   "execution_count": 887,
   "metadata": {},
   "outputs": [],
   "source": [
    "[aE,aW,bP,aP] = Discretization_Coefficients(Rint,Rext,N,H,qv)"
   ]
  },
  {
   "attachments": {},
   "cell_type": "markdown",
   "metadata": {},
   "source": [
    "### Guass Seidel Temperature Solver "
   ]
  },
  {
   "cell_type": "code",
   "execution_count": 893,
   "metadata": {},
   "outputs": [
    {
     "name": "stdout",
     "output_type": "stream",
     "text": [
      "The number of Iterations is 645\n"
     ]
    }
   ],
   "source": [
    "r_P = Nodes(Rint,Rext,N);\n",
    "T_guess = np.zeros(N+2)\n",
    "loc_residuals = np.zeros(N+2);\n",
    "maxIterations = 1e6;\n",
    "Iterations = 0;\n",
    "maxResidual = 1e-6;\n",
    "Residual = maxResidual + 1;\n",
    "Iterations_graph = np.empty(0);\n",
    "Error_graph = np.empty(0);\n",
    "T = np.zeros(N+2);         # Taking initial start as the temperture T_guess \n",
    "\n",
    "while (Residual>maxResidual) and (Iterations<maxIterations):\n",
    "    T[0] = (aE[0]*T[1] + bP[0])/aP[0];\n",
    "    for i in range(1,N+1):\n",
    "        T[i] = (aW[i]*T[i-1] + aE[i]*T[i+1] + bP[i])/(aP[i]);\n",
    "\n",
    "    T[N+1] = (aW[N+1]*T[N] + bP[N+1])/aP[N+1]; \n",
    "    Iterations = Iterations + 1; \n",
    "    Residual = max(abs(T-T_guess));\n",
    "    Iterations_graph = np.append(Iterations_graph,Iterations);\n",
    "    Error_graph = np.append(Error_graph,Residual);\n",
    "    \n",
    "    for i in range(0,N+2):\n",
    "        T_guess[i] = T[i];\n",
    "    \n",
    "print(\"The number of Iterations is\",Iterations)\n"
   ]
  },
  {
   "cell_type": "code",
   "execution_count": 894,
   "metadata": {},
   "outputs": [
    {
     "data": {
      "text/plain": [
       "array([140.13407578, 138.16089152, 134.5732845 , 131.28464556,\n",
       "       128.24897976, 125.43014818, 122.79923969, 120.33276396,\n",
       "       118.01137599, 115.81895493, 113.74192529, 111.76874791,\n",
       "       109.88953203, 108.09573564, 106.37993087, 104.73561832,\n",
       "       103.9463486 ])"
      ]
     },
     "execution_count": 894,
     "metadata": {},
     "output_type": "execute_result"
    }
   ],
   "source": [
    " T"
   ]
  },
  {
   "attachments": {},
   "cell_type": "markdown",
   "metadata": {},
   "source": [
    "#### Global Energy Balance "
   ]
  },
  {
   "cell_type": "code",
   "execution_count": 895,
   "metadata": {},
   "outputs": [
    {
     "data": {
      "text/plain": [
       "0.0013248709874460474"
      ]
     },
     "execution_count": 895,
     "metadata": {},
     "output_type": "execute_result"
    }
   ],
   "source": [
    "surface = Area_Surfaces(Rint,Rext,N,H);\n",
    "global_energy = alpha_A*(T_A - T[0])*surface[0] - alpha_B*(T[N+1]-T_B)*surface[-1] + qv*(Rext**2-Rint**2)*pi*H;\n",
    "global_energy\n"
   ]
  },
  {
   "cell_type": "code",
   "execution_count": 868,
   "metadata": {},
   "outputs": [
    {
     "data": {
      "text/plain": [
       "[<matplotlib.lines.Line2D at 0x21a32be12d0>]"
      ]
     },
     "execution_count": 868,
     "metadata": {},
     "output_type": "execute_result"
    },
    {
     "data": {
      "image/png": "[encoded data removed]",
      "text/plain": [
       "<Figure size 432x288 with 1 Axes>"
      ]
     },
     "metadata": {
      "needs_background": "light"
     },
     "output_type": "display_data"
    }
   ],
   "source": [
    "plt.plot(r_P,T)"
   ]
  },
  {
   "cell_type": "code",
   "execution_count": 869,
   "metadata": {
    "vscode": {
     "languageId": "latex"
    }
   },
   "outputs": [
    {
     "data": {
      "text/plain": [
       "Text(0, 0.5, 'Residual')"
      ]
     },
     "execution_count": 869,
     "metadata": {},
     "output_type": "execute_result"
    },
    {
     "data": {
      "image/png": "[encoded data removed]",
      "text/plain": [
       "<Figure size 432x288 with 1 Axes>"
      ]
     },
     "metadata": {
      "needs_background": "light"
     },
     "output_type": "display_data"
    }
   ],
   "source": [
    "plt.plot(Iterations_graph, Error_graph)\n",
    "plt.xlabel(\"Number of Iterations\")\n",
    "plt.ylabel(\"Residual\")"
   ]
  },
  {
   "cell_type": "code",
   "execution_count": 870,
   "metadata": {},
   "outputs": [],
   "source": [
    "from sympy import* \n",
    "from sympy.solvers.solveset import linsolve\n",
    "(Tw1, Tw2) = symbols('Tw1 Tw2');\n",
    "C1 = ((Tw1-Tw2)+(qv/(4*lambd)*(Rint**2-Rext**2)))/np.log(Rint/Rext);\n",
    "equ1 = -(alpha_A*(T_A-Tw1)) + (qv*(Rint/2)) - (lambd/Rint)*C1;\n",
    "equ2 = -(alpha_B*(Tw2-T_B)) + (qv*(Rext/2)) - (lambd/Rext)*C1;\n",
    "(a,b), = linsolve([equ1,equ2],(Tw1,Tw2));\n"
   ]
  },
  {
   "cell_type": "code",
   "execution_count": 871,
   "metadata": {},
   "outputs": [
    {
     "data": {
      "text/latex": [
       "$\\displaystyle 90.1286492229951$"
      ],
      "text/plain": [
       "90.1286492229951"
      ]
     },
     "execution_count": 871,
     "metadata": {},
     "output_type": "execute_result"
    }
   ],
   "source": [
    "a\n"
   ]
  },
  {
   "cell_type": "code",
   "execution_count": 872,
   "metadata": {},
   "outputs": [
    {
     "data": {
      "text/plain": [
       "array([90.1286492229951, 88.2021499230587, 84.6100925891522,\n",
       "       81.3177361483985, 78.2788984155256, 75.4573124170092,\n",
       "       72.8239766111012, 70.3553351132360, 68.0319942507530,\n",
       "       65.8377962772527, 63.7591372394697, 61.7844556234776,\n",
       "       59.9038429098883, 58.1087427432200, 56.3917155690821,\n",
       "       54.7462523531075, 53.9485403108020], dtype=object)"
      ]
     },
     "execution_count": 872,
     "metadata": {},
     "output_type": "execute_result"
    }
   ],
   "source": [
    "\n",
    "T_analytical = np.empty(0)\n",
    "for r in r_P:\n",
    "    T_ana = a + (qv*(Rint**2-r**2))/(4*lambd) + (np.log(r/Rint))*((a-b) + (qv/(4*lambd))*(Rint**2-Rext**2))/(np.log(Rint/Rext));\n",
    "    T_analytical = np.append(T_analytical,T_ana);\n",
    "T_analytical"
   ]
  },
  {
   "cell_type": "code",
   "execution_count": 873,
   "metadata": {},
   "outputs": [
    {
     "data": {
      "text/plain": [
       "array([90.13407585, 88.1608916 , 84.57328459, 81.28464567, 78.24897987,\n",
       "       75.4301483 , 72.79923981, 70.33276408, 68.01137611, 65.81895504,\n",
       "       63.7419254 , 61.768748  , 59.88953212, 58.09573571, 56.37993093,\n",
       "       54.73561837, 53.94634864])"
      ]
     },
     "execution_count": 873,
     "metadata": {},
     "output_type": "execute_result"
    }
   ],
   "source": [
    "T"
   ]
  },
  {
   "cell_type": "code",
   "execution_count": 874,
   "metadata": {},
   "outputs": [
    {
     "data": {
      "text/plain": [
       "<matplotlib.legend.Legend at 0x21a3486bdf0>"
      ]
     },
     "execution_count": 874,
     "metadata": {},
     "output_type": "execute_result"
    },
    {
     "data": {
      "image/png": "[encoded data removed]",
      "text/plain": [
       "<Figure size 432x288 with 1 Axes>"
      ]
     },
     "metadata": {
      "needs_background": "light"
     },
     "output_type": "display_data"
    }
   ],
   "source": [
    "from cProfile import label\n",
    "\n",
    "\n",
    "plt.scatter(r_P,T,color='black', label = \"Numerical\")\n",
    "plt.plot(r_P,T,color='b',label=\"Analytial\")\n",
    "plt.legend(loc = \"upper right\")\n",
    "\n"
   ]
  },
  {
   "cell_type": "code",
   "execution_count": 875,
   "metadata": {},
   "outputs": [
    {
     "data": {
      "text/plain": [
       "2.302585092994046"
      ]
     },
     "execution_count": 875,
     "metadata": {},
     "output_type": "execute_result"
    }
   ],
   "source": [
    "np.log(10)"
   ]
  },
  {
   "cell_type": "code",
   "execution_count": 876,
   "metadata": {},
   "outputs": [],
   "source": [
    "from sympy import* \n",
    "from sympy.solvers.solveset import linsolve\n",
    "(a, b) = symbols('a b');\n",
    "equ1 = 3*a-b-3;\n",
    "equ2 = a+b-1;\n",
    "solution  = linsolve([equ1,equ2],(a,b))"
   ]
  },
  {
   "cell_type": "code",
   "execution_count": 877,
   "metadata": {},
   "outputs": [
    {
     "data": {
      "text/latex": [
       "$\\displaystyle \\left\\{\\left( 1, \\  0\\right)\\right\\}$"
      ],
      "text/plain": [
       "{(1, 0)}"
      ]
     },
     "execution_count": 877,
     "metadata": {},
     "output_type": "execute_result"
    }
   ],
   "source": [
    "solution"
   ]
  },
  {
   "cell_type": "code",
   "execution_count": null,
   "metadata": {},
   "outputs": [],
   "source": []
  }
 ],
 "metadata": {
  "kernelspec": {
   "display_name": "Python 3.10.7 64-bit",
   "language": "python",
   "name": "python3"
  },
  "language_info": {
   "codemirror_mode": {
    "name": "ipython",
    "version": 3
   },
   "file_extension": ".py",
   "mimetype": "text/x-python",
   "name": "python",
   "nbconvert_exporter": "python",
   "pygments_lexer": "ipython3",
   "version": "3.10.2"
  },
  "orig_nbformat": 4,
  "vscode": {
   "interpreter": {
    "hash": "eeb0371c32f6a5ff21282a52ee49c4e4d57448c07a1bb4bd69f13801d4a878cd"
   }
  }
 },
 "nbformat": 4,
 "nbformat_minor": 2
}
